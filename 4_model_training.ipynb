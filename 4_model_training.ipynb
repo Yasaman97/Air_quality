{
 "cells": [
  {
   "cell_type": "markdown",
   "id": "dbd751f5",
   "metadata": {},
   "source": [
    "# <span style=\"font-width:bold; font-size: 3rem; color:#1EB182;\"><img src=\"../../images/icon102.png\" width=\"38px\"></img> **Hopsworks Feature Store** </span><span style=\"font-width:bold; font-size: 3rem; color:#333;\">- Part 04: Batch Predictions</span>\n",
    "\n",
    "[![Open In Colab](https://colab.research.google.com/assets/colab-badge.svg)](https://colab.research.google.com/github/logicalclocks/hopsworks-tutorials/blob/master/advanced_tutorials/{project_name}/{notebook_name}.ipynb)\n",
    "\n",
    "\n",
    "## 🗒️ This notebook is divided into the following sections:\n",
    "\n",
    "1. Loading the training data\n",
    "2. Train the model\n",
    "3. Register model in Hopsworks model registry\n",
    "\n",
    "![part3](../../images/03_model.png) "
   ]
  },
  {
   "cell_type": "markdown",
   "id": "aacb85de",
   "metadata": {},
   "source": [
    "### <span style='color:#ff5f27'> 📝 Imports"
   ]
  },
  {
   "cell_type": "code",
   "execution_count": 1,
   "id": "33dfb21d",
   "metadata": {},
   "outputs": [],
   "source": [
    "import pandas as pd\n",
    "\n",
    "from sklearn.ensemble import GradientBoostingRegressor\n",
    "from sklearn.metrics import f1_score\n",
    "\n",
    "import warnings\n",
    "warnings.filterwarnings(\"ignore\")"
   ]
  },
  {
   "cell_type": "markdown",
   "id": "181a72b0",
   "metadata": {},
   "source": [
    "---"
   ]
  },
  {
   "cell_type": "markdown",
   "id": "e05af617",
   "metadata": {},
   "source": [
    "## <span style=\"color:#ff5f27;\"> 📡 Connecting to Hopsworks Feature Store </span>"
   ]
  },
  {
   "cell_type": "code",
   "execution_count": 3,
   "id": "6ec92e27",
   "metadata": {},
   "outputs": [
    {
     "name": "stdout",
     "output_type": "stream",
     "text": [
      "Connection closed.\n",
      "Connected. Call `.close()` to terminate connection gracefully.\n",
      "\n",
      "Logged in to project, explore it here https://c.app.hopsworks.ai:443/p/5287\n"
     ]
    }
   ],
   "source": [
    "import hopsworks\n",
    "\n",
    "project = hopsworks.login() "
   ]
  },
  {
   "cell_type": "code",
   "execution_count": 8,
   "id": "6539d56a",
   "metadata": {},
   "outputs": [
    {
     "ename": "FeatureStoreException",
     "evalue": "Trying to instantiate Python as engine, but 'python' extras are missing in HSFS installation. Install with `pip install hsfs[python]`.",
     "output_type": "error",
     "traceback": [
      "\u001b[1;31m---------------------------------------------------------------------------\u001b[0m",
      "\u001b[1;31mImportError\u001b[0m                               Traceback (most recent call last)",
      "File \u001b[1;32m~\\anaconda3\\lib\\site-packages\\hsfs\\engine\\__init__.py:33\u001b[0m, in \u001b[0;36minit\u001b[1;34m(engine_type)\u001b[0m\n\u001b[0;32m     32\u001b[0m \u001b[38;5;28;01mtry\u001b[39;00m:\n\u001b[1;32m---> 33\u001b[0m     \u001b[38;5;28;01mfrom\u001b[39;00m \u001b[38;5;21;01mhsfs\u001b[39;00m\u001b[38;5;21;01m.\u001b[39;00m\u001b[38;5;21;01mengine\u001b[39;00m \u001b[38;5;28;01mimport\u001b[39;00m python\n\u001b[0;32m     34\u001b[0m \u001b[38;5;28;01mexcept\u001b[39;00m \u001b[38;5;167;01mImportError\u001b[39;00m:\n",
      "File \u001b[1;32m~\\anaconda3\\lib\\site-packages\\hsfs\\engine\\python.py:37\u001b[0m\n\u001b[0;32m     36\u001b[0m \u001b[38;5;28;01mfrom\u001b[39;00m \u001b[38;5;21;01mtyping\u001b[39;00m \u001b[38;5;28;01mimport\u001b[39;00m TypeVar, Optional, Dict, Any\n\u001b[1;32m---> 37\u001b[0m \u001b[38;5;28;01mfrom\u001b[39;00m \u001b[38;5;21;01mconfluent_kafka\u001b[39;00m \u001b[38;5;28;01mimport\u001b[39;00m Producer\n\u001b[0;32m     38\u001b[0m \u001b[38;5;28;01mfrom\u001b[39;00m \u001b[38;5;21;01mtqdm\u001b[39;00m\u001b[38;5;21;01m.\u001b[39;00m\u001b[38;5;21;01mauto\u001b[39;00m \u001b[38;5;28;01mimport\u001b[39;00m tqdm\n",
      "File \u001b[1;32m~\\anaconda3\\lib\\site-packages\\confluent_kafka\\__init__.py:40\u001b[0m\n\u001b[0;32m     20\u001b[0m \u001b[38;5;66;03m# end delvewheel patch\u001b[39;00m\n\u001b[0;32m     21\u001b[0m \n\u001b[0;32m     22\u001b[0m \u001b[38;5;66;03m#!/usr/bin/env python\u001b[39;00m\n\u001b[1;32m   (...)\u001b[0m\n\u001b[0;32m     37\u001b[0m \u001b[38;5;66;03m# limitations under the License.\u001b[39;00m\n\u001b[0;32m     38\u001b[0m \u001b[38;5;66;03m#\u001b[39;00m\n\u001b[1;32m---> 40\u001b[0m \u001b[38;5;28;01mfrom\u001b[39;00m \u001b[38;5;21;01m.\u001b[39;00m\u001b[38;5;21;01mdeserializing_consumer\u001b[39;00m \u001b[38;5;28;01mimport\u001b[39;00m DeserializingConsumer\n\u001b[0;32m     41\u001b[0m \u001b[38;5;28;01mfrom\u001b[39;00m \u001b[38;5;21;01m.\u001b[39;00m\u001b[38;5;21;01mserializing_producer\u001b[39;00m \u001b[38;5;28;01mimport\u001b[39;00m SerializingProducer\n",
      "File \u001b[1;32m~\\anaconda3\\lib\\site-packages\\confluent_kafka\\deserializing_consumer.py:19\u001b[0m\n\u001b[0;32m      1\u001b[0m \u001b[38;5;66;03m#!/usr/bin/env python\u001b[39;00m\n\u001b[0;32m      2\u001b[0m \u001b[38;5;66;03m# -*- coding: utf-8 -*-\u001b[39;00m\n\u001b[0;32m      3\u001b[0m \u001b[38;5;66;03m#\u001b[39;00m\n\u001b[1;32m   (...)\u001b[0m\n\u001b[0;32m     16\u001b[0m \u001b[38;5;66;03m# limitations under the License.\u001b[39;00m\n\u001b[0;32m     17\u001b[0m \u001b[38;5;66;03m#\u001b[39;00m\n\u001b[1;32m---> 19\u001b[0m \u001b[38;5;28;01mfrom\u001b[39;00m \u001b[38;5;21;01mconfluent_kafka\u001b[39;00m\u001b[38;5;21;01m.\u001b[39;00m\u001b[38;5;21;01mcimpl\u001b[39;00m \u001b[38;5;28;01mimport\u001b[39;00m Consumer \u001b[38;5;28;01mas\u001b[39;00m _ConsumerImpl\n\u001b[0;32m     20\u001b[0m \u001b[38;5;28;01mfrom\u001b[39;00m \u001b[38;5;21;01m.\u001b[39;00m\u001b[38;5;21;01merror\u001b[39;00m \u001b[38;5;28;01mimport\u001b[39;00m (ConsumeError,\n\u001b[0;32m     21\u001b[0m                     KeyDeserializationError,\n\u001b[0;32m     22\u001b[0m                     ValueDeserializationError)\n",
      "\u001b[1;31mImportError\u001b[0m: DLL load failed while importing cimpl: Le module spécifié est introuvable.",
      "\nDuring handling of the above exception, another exception occurred:\n",
      "\u001b[1;31mFeatureStoreException\u001b[0m                     Traceback (most recent call last)",
      "Cell \u001b[1;32mIn[8], line 1\u001b[0m\n\u001b[1;32m----> 1\u001b[0m fs \u001b[38;5;241m=\u001b[39m \u001b[43mproject\u001b[49m\u001b[38;5;241;43m.\u001b[39;49m\u001b[43mget_feature_store\u001b[49m\u001b[43m(\u001b[49m\u001b[43m)\u001b[49m \n",
      "File \u001b[1;32m~\\anaconda3\\lib\\site-packages\\hopsworks\\project.py:103\u001b[0m, in \u001b[0;36mProject.get_feature_store\u001b[1;34m(self)\u001b[0m\n\u001b[0;32m    101\u001b[0m _client \u001b[38;5;241m=\u001b[39m client\u001b[38;5;241m.\u001b[39mget_instance()\n\u001b[0;32m    102\u001b[0m \u001b[38;5;28;01mif\u001b[39;00m \u001b[38;5;28mtype\u001b[39m(_client) \u001b[38;5;241m==\u001b[39m Client:  \u001b[38;5;66;03m# If external client\u001b[39;00m\n\u001b[1;32m--> 103\u001b[0m     \u001b[38;5;28;01mreturn\u001b[39;00m \u001b[43mconnection\u001b[49m\u001b[43m(\u001b[49m\n\u001b[0;32m    104\u001b[0m \u001b[43m        \u001b[49m\u001b[43mhost\u001b[49m\u001b[38;5;241;43m=\u001b[39;49m\u001b[43m_client\u001b[49m\u001b[38;5;241;43m.\u001b[39;49m\u001b[43m_host\u001b[49m\u001b[43m,\u001b[49m\n\u001b[0;32m    105\u001b[0m \u001b[43m        \u001b[49m\u001b[43mport\u001b[49m\u001b[38;5;241;43m=\u001b[39;49m\u001b[43m_client\u001b[49m\u001b[38;5;241;43m.\u001b[39;49m\u001b[43m_port\u001b[49m\u001b[43m,\u001b[49m\n\u001b[0;32m    106\u001b[0m \u001b[43m        \u001b[49m\u001b[43mproject\u001b[49m\u001b[38;5;241;43m=\u001b[39;49m\u001b[38;5;28;43mself\u001b[39;49m\u001b[38;5;241;43m.\u001b[39;49m\u001b[43mname\u001b[49m\u001b[43m,\u001b[49m\n\u001b[0;32m    107\u001b[0m \u001b[43m        \u001b[49m\u001b[43mapi_key_value\u001b[49m\u001b[38;5;241;43m=\u001b[39;49m\u001b[43m_client\u001b[49m\u001b[38;5;241;43m.\u001b[39;49m\u001b[43m_auth\u001b[49m\u001b[38;5;241;43m.\u001b[39;49m\u001b[43m_token\u001b[49m\u001b[43m,\u001b[49m\n\u001b[0;32m    108\u001b[0m \u001b[43m        \u001b[49m\u001b[43mengine\u001b[49m\u001b[38;5;241;43m=\u001b[39;49m\u001b[38;5;124;43m\"\u001b[39;49m\u001b[38;5;124;43mpython\u001b[39;49m\u001b[38;5;124;43m\"\u001b[39;49m\u001b[43m,\u001b[49m\n\u001b[0;32m    109\u001b[0m \u001b[43m    \u001b[49m\u001b[43m)\u001b[49m\u001b[38;5;241m.\u001b[39mget_feature_store()\n\u001b[0;32m    110\u001b[0m \u001b[38;5;28;01melse\u001b[39;00m:\n\u001b[0;32m    111\u001b[0m     \u001b[38;5;28;01mreturn\u001b[39;00m connection()\u001b[38;5;241m.\u001b[39mget_feature_store()\n",
      "File \u001b[1;32m~\\anaconda3\\lib\\site-packages\\hsfs\\connection.py:306\u001b[0m, in \u001b[0;36mConnection.connection\u001b[1;34m(cls, host, port, project, engine, region_name, secrets_store, hostname_verification, trust_store_path, cert_folder, api_key_file, api_key_value)\u001b[0m\n\u001b[0;32m    290\u001b[0m \u001b[38;5;129m@classmethod\u001b[39m\n\u001b[0;32m    291\u001b[0m \u001b[38;5;28;01mdef\u001b[39;00m \u001b[38;5;21mconnection\u001b[39m(\n\u001b[0;32m    292\u001b[0m     \u001b[38;5;28mcls\u001b[39m,\n\u001b[1;32m   (...)\u001b[0m\n\u001b[0;32m    303\u001b[0m     api_key_value: \u001b[38;5;28mstr\u001b[39m \u001b[38;5;241m=\u001b[39m \u001b[38;5;28;01mNone\u001b[39;00m,\n\u001b[0;32m    304\u001b[0m ):\n\u001b[0;32m    305\u001b[0m     \u001b[38;5;124;03m\"\"\"Connection factory method, accessible through `hsfs.connection()`.\"\"\"\u001b[39;00m\n\u001b[1;32m--> 306\u001b[0m     \u001b[38;5;28;01mreturn\u001b[39;00m \u001b[38;5;28;43mcls\u001b[39;49m\u001b[43m(\u001b[49m\n\u001b[0;32m    307\u001b[0m \u001b[43m        \u001b[49m\u001b[43mhost\u001b[49m\u001b[43m,\u001b[49m\n\u001b[0;32m    308\u001b[0m \u001b[43m        \u001b[49m\u001b[43mport\u001b[49m\u001b[43m,\u001b[49m\n\u001b[0;32m    309\u001b[0m \u001b[43m        \u001b[49m\u001b[43mproject\u001b[49m\u001b[43m,\u001b[49m\n\u001b[0;32m    310\u001b[0m \u001b[43m        \u001b[49m\u001b[43mengine\u001b[49m\u001b[43m,\u001b[49m\n\u001b[0;32m    311\u001b[0m \u001b[43m        \u001b[49m\u001b[43mregion_name\u001b[49m\u001b[43m,\u001b[49m\n\u001b[0;32m    312\u001b[0m \u001b[43m        \u001b[49m\u001b[43msecrets_store\u001b[49m\u001b[43m,\u001b[49m\n\u001b[0;32m    313\u001b[0m \u001b[43m        \u001b[49m\u001b[43mhostname_verification\u001b[49m\u001b[43m,\u001b[49m\n\u001b[0;32m    314\u001b[0m \u001b[43m        \u001b[49m\u001b[43mtrust_store_path\u001b[49m\u001b[43m,\u001b[49m\n\u001b[0;32m    315\u001b[0m \u001b[43m        \u001b[49m\u001b[43mcert_folder\u001b[49m\u001b[43m,\u001b[49m\n\u001b[0;32m    316\u001b[0m \u001b[43m        \u001b[49m\u001b[43mapi_key_file\u001b[49m\u001b[43m,\u001b[49m\n\u001b[0;32m    317\u001b[0m \u001b[43m        \u001b[49m\u001b[43mapi_key_value\u001b[49m\u001b[43m,\u001b[49m\n\u001b[0;32m    318\u001b[0m \u001b[43m    \u001b[49m\u001b[43m)\u001b[49m\n",
      "File \u001b[1;32m~\\anaconda3\\lib\\site-packages\\hsfs\\connection.py:139\u001b[0m, in \u001b[0;36mConnection.__init__\u001b[1;34m(self, host, port, project, engine, region_name, secrets_store, hostname_verification, trust_store_path, cert_folder, api_key_file, api_key_value)\u001b[0m\n\u001b[0;32m    136\u001b[0m \u001b[38;5;28mself\u001b[39m\u001b[38;5;241m.\u001b[39m_api_key_value \u001b[38;5;241m=\u001b[39m api_key_value\n\u001b[0;32m    137\u001b[0m \u001b[38;5;28mself\u001b[39m\u001b[38;5;241m.\u001b[39m_connected \u001b[38;5;241m=\u001b[39m \u001b[38;5;28;01mFalse\u001b[39;00m\n\u001b[1;32m--> 139\u001b[0m \u001b[38;5;28;43mself\u001b[39;49m\u001b[38;5;241;43m.\u001b[39;49m\u001b[43mconnect\u001b[49m\u001b[43m(\u001b[49m\u001b[43m)\u001b[49m\n",
      "File \u001b[1;32m~\\anaconda3\\lib\\site-packages\\hsfs\\decorators.py:25\u001b[0m, in \u001b[0;36mnot_connected.<locals>.if_not_connected\u001b[1;34m(inst, *args, **kwargs)\u001b[0m\n\u001b[0;32m     23\u001b[0m \u001b[38;5;28;01mif\u001b[39;00m inst\u001b[38;5;241m.\u001b[39m_connected:\n\u001b[0;32m     24\u001b[0m     \u001b[38;5;28;01mraise\u001b[39;00m HopsworksConnectionError\n\u001b[1;32m---> 25\u001b[0m \u001b[38;5;28;01mreturn\u001b[39;00m fn(inst, \u001b[38;5;241m*\u001b[39margs, \u001b[38;5;241m*\u001b[39m\u001b[38;5;241m*\u001b[39mkwargs)\n",
      "File \u001b[1;32m~\\anaconda3\\lib\\site-packages\\hsfs\\connection.py:216\u001b[0m, in \u001b[0;36mConnection.connect\u001b[1;34m(self)\u001b[0m\n\u001b[0;32m    213\u001b[0m     client\u001b[38;5;241m.\u001b[39minit(\u001b[38;5;124m\"\u001b[39m\u001b[38;5;124mhopsworks\u001b[39m\u001b[38;5;124m\"\u001b[39m)\n\u001b[0;32m    215\u001b[0m \u001b[38;5;66;03m# init engine\u001b[39;00m\n\u001b[1;32m--> 216\u001b[0m \u001b[43mengine\u001b[49m\u001b[38;5;241;43m.\u001b[39;49m\u001b[43minit\u001b[49m\u001b[43m(\u001b[49m\u001b[38;5;28;43mself\u001b[39;49m\u001b[38;5;241;43m.\u001b[39;49m\u001b[43m_engine\u001b[49m\u001b[43m)\u001b[49m\n\u001b[0;32m    218\u001b[0m \u001b[38;5;28mself\u001b[39m\u001b[38;5;241m.\u001b[39m_feature_store_api \u001b[38;5;241m=\u001b[39m feature_store_api\u001b[38;5;241m.\u001b[39mFeatureStoreApi()\n\u001b[0;32m    219\u001b[0m \u001b[38;5;28mself\u001b[39m\u001b[38;5;241m.\u001b[39m_project_api \u001b[38;5;241m=\u001b[39m project_api\u001b[38;5;241m.\u001b[39mProjectApi()\n",
      "File \u001b[1;32m~\\anaconda3\\lib\\site-packages\\hsfs\\engine\\__init__.py:35\u001b[0m, in \u001b[0;36minit\u001b[1;34m(engine_type)\u001b[0m\n\u001b[0;32m     33\u001b[0m     \u001b[38;5;28;01mfrom\u001b[39;00m \u001b[38;5;21;01mhsfs\u001b[39;00m\u001b[38;5;21;01m.\u001b[39;00m\u001b[38;5;21;01mengine\u001b[39;00m \u001b[38;5;28;01mimport\u001b[39;00m python\n\u001b[0;32m     34\u001b[0m \u001b[38;5;28;01mexcept\u001b[39;00m \u001b[38;5;167;01mImportError\u001b[39;00m:\n\u001b[1;32m---> 35\u001b[0m     \u001b[38;5;28;01mraise\u001b[39;00m exceptions\u001b[38;5;241m.\u001b[39mFeatureStoreException(\n\u001b[0;32m     36\u001b[0m         \u001b[38;5;124m\"\u001b[39m\u001b[38;5;124mTrying to instantiate Python as engine, but \u001b[39m\u001b[38;5;124m'\u001b[39m\u001b[38;5;124mpython\u001b[39m\u001b[38;5;124m'\u001b[39m\u001b[38;5;124m extras are \u001b[39m\u001b[38;5;124m\"\u001b[39m\n\u001b[0;32m     37\u001b[0m         \u001b[38;5;124m\"\u001b[39m\u001b[38;5;124mmissing in HSFS installation. Install with `pip install \u001b[39m\u001b[38;5;124m\"\u001b[39m\n\u001b[0;32m     38\u001b[0m         \u001b[38;5;124m\"\u001b[39m\u001b[38;5;124mhsfs[python]`.\u001b[39m\u001b[38;5;124m\"\u001b[39m\n\u001b[0;32m     39\u001b[0m     )\n\u001b[0;32m     40\u001b[0m _engine_type \u001b[38;5;241m=\u001b[39m \u001b[38;5;124m\"\u001b[39m\u001b[38;5;124mpython\u001b[39m\u001b[38;5;124m\"\u001b[39m\n\u001b[0;32m     41\u001b[0m _engine \u001b[38;5;241m=\u001b[39m python\u001b[38;5;241m.\u001b[39mEngine()\n",
      "\u001b[1;31mFeatureStoreException\u001b[0m: Trying to instantiate Python as engine, but 'python' extras are missing in HSFS installation. Install with `pip install hsfs[python]`."
     ]
    }
   ],
   "source": [
    "\n",
    "\n",
    "fs = project.get_feature_store() "
   ]
  },
  {
   "cell_type": "markdown",
   "id": "2a8c76da",
   "metadata": {},
   "source": [
    "---"
   ]
  },
  {
   "cell_type": "code",
   "execution_count": 7,
   "id": "bd7ea0ca",
   "metadata": {},
   "outputs": [
    {
     "name": "stdout",
     "output_type": "stream",
     "text": [
      "Requirement already satisfied: hsfs[python] in c:\\users\\user\\anaconda3\\lib\\site-packages (3.0.4)\n",
      "Requirement already satisfied: pyhumps==1.6.1 in c:\\users\\user\\anaconda3\\lib\\site-packages (from hsfs[python]) (1.6.1)\n",
      "Requirement already satisfied: mock in c:\\users\\user\\anaconda3\\lib\\site-packages (from hsfs[python]) (4.0.3)\n",
      "Requirement already satisfied: furl in c:\\users\\user\\anaconda3\\lib\\site-packages (from hsfs[python]) (2.1.3)\n",
      "Requirement already satisfied: markupsafe<2.1.0 in c:\\users\\user\\anaconda3\\lib\\site-packages (from hsfs[python]) (2.0.1)\n",
      "Requirement already satisfied: sqlalchemy in c:\\users\\user\\anaconda3\\lib\\site-packages (from hsfs[python]) (1.4.39)\n",
      "Requirement already satisfied: boto3 in c:\\users\\user\\anaconda3\\lib\\site-packages (from hsfs[python]) (1.24.28)\n",
      "Requirement already satisfied: avro==1.10.2 in c:\\users\\user\\anaconda3\\lib\\site-packages (from hsfs[python]) (1.10.2)\n",
      "Requirement already satisfied: PyMySQL[rsa] in c:\\users\\user\\anaconda3\\lib\\site-packages (from hsfs[python]) (1.0.2)\n",
      "Requirement already satisfied: great-expectations==0.14.12 in c:\\users\\user\\anaconda3\\lib\\site-packages (from hsfs[python]) (0.14.12)\n",
      "Requirement already satisfied: pyjks in c:\\users\\user\\anaconda3\\lib\\site-packages (from hsfs[python]) (20.0.0)\n",
      "Requirement already satisfied: numpy in c:\\users\\user\\anaconda3\\lib\\site-packages (from hsfs[python]) (1.21.5)\n",
      "Requirement already satisfied: pandas>=1.2.0 in c:\\users\\user\\anaconda3\\lib\\site-packages (from hsfs[python]) (1.4.4)\n",
      "Requirement already satisfied: requests in c:\\users\\user\\anaconda3\\lib\\site-packages (from hsfs[python]) (2.28.1)\n",
      "Requirement already satisfied: fastavro==1.4.11 in c:\\users\\user\\anaconda3\\lib\\site-packages (from hsfs[python]) (1.4.11)\n",
      "Requirement already satisfied: confluent-kafka==1.8.2 in c:\\users\\user\\anaconda3\\lib\\site-packages (from hsfs[python]) (1.8.2)\n",
      "Requirement already satisfied: pyhopshive[thrift] in c:\\users\\user\\anaconda3\\lib\\site-packages (from hsfs[python]) (0.6.4.1.dev0)\n",
      "Requirement already satisfied: pyarrow in c:\\users\\user\\anaconda3\\lib\\site-packages (from hsfs[python]) (10.0.0)\n",
      "Requirement already satisfied: tqdm in c:\\users\\user\\anaconda3\\lib\\site-packages (from hsfs[python]) (4.64.1)\n",
      "Requirement already satisfied: python-dateutil>=2.8.1 in c:\\users\\user\\appdata\\roaming\\python\\python39\\site-packages (from great-expectations==0.14.12->hsfs[python]) (2.8.2)\n",
      "Requirement already satisfied: typing-extensions>=3.10.0.0 in c:\\users\\user\\anaconda3\\lib\\site-packages (from great-expectations==0.14.12->hsfs[python]) (4.3.0)\n",
      "Requirement already satisfied: mistune<2.0.0,>=0.8.4 in c:\\users\\user\\anaconda3\\lib\\site-packages (from great-expectations==0.14.12->hsfs[python]) (0.8.4)\n",
      "Requirement already satisfied: ipywidgets>=7.5.1 in c:\\users\\user\\anaconda3\\lib\\site-packages (from great-expectations==0.14.12->hsfs[python]) (7.6.5)\n",
      "Requirement already satisfied: jinja2<3.1.0,>=2.10 in c:\\users\\user\\anaconda3\\lib\\site-packages (from great-expectations==0.14.12->hsfs[python]) (2.11.3)\n",
      "Requirement already satisfied: importlib-metadata>=1.7.0 in c:\\users\\user\\anaconda3\\lib\\site-packages (from great-expectations==0.14.12->hsfs[python]) (4.11.3)\n",
      "Requirement already satisfied: Click>=7.1.2 in c:\\users\\user\\anaconda3\\lib\\site-packages (from great-expectations==0.14.12->hsfs[python]) (8.0.4)\n",
      "Requirement already satisfied: jsonpatch>=1.22 in c:\\users\\user\\anaconda3\\lib\\site-packages (from great-expectations==0.14.12->hsfs[python]) (1.32)\n",
      "Requirement already satisfied: cryptography>=3.2 in c:\\users\\user\\anaconda3\\lib\\site-packages (from great-expectations==0.14.12->hsfs[python]) (37.0.1)\n",
      "Requirement already satisfied: tzlocal>=1.2 in c:\\users\\user\\anaconda3\\lib\\site-packages (from great-expectations==0.14.12->hsfs[python]) (4.2)\n",
      "Requirement already satisfied: pyparsing<3,>=2.4 in c:\\users\\user\\anaconda3\\lib\\site-packages (from great-expectations==0.14.12->hsfs[python]) (2.4.7)\n",
      "Requirement already satisfied: termcolor>=1.1.0 in c:\\users\\user\\anaconda3\\lib\\site-packages (from great-expectations==0.14.12->hsfs[python]) (2.1.0)\n",
      "Requirement already satisfied: colorama>=0.4.3 in c:\\users\\user\\appdata\\roaming\\python\\python39\\site-packages (from great-expectations==0.14.12->hsfs[python]) (0.4.6)\n",
      "Requirement already satisfied: packaging in c:\\users\\user\\appdata\\roaming\\python\\python39\\site-packages (from great-expectations==0.14.12->hsfs[python]) (22.0)\n",
      "Requirement already satisfied: nbformat>=5.0 in c:\\users\\user\\anaconda3\\lib\\site-packages (from great-expectations==0.14.12->hsfs[python]) (5.5.0)\n",
      "Requirement already satisfied: pytz>=2021.3 in c:\\users\\user\\anaconda3\\lib\\site-packages (from great-expectations==0.14.12->hsfs[python]) (2022.1)\n",
      "Requirement already satisfied: altair<5,>=4.0.0 in c:\\users\\user\\anaconda3\\lib\\site-packages (from great-expectations==0.14.12->hsfs[python]) (4.2.0)\n",
      "Requirement already satisfied: ruamel.yaml<0.17.18,>=0.16 in c:\\users\\user\\anaconda3\\lib\\site-packages (from great-expectations==0.14.12->hsfs[python]) (0.17.17)\n",
      "Requirement already satisfied: scipy>=0.19.0 in c:\\users\\user\\anaconda3\\lib\\site-packages (from great-expectations==0.14.12->hsfs[python]) (1.9.1)\n",
      "Requirement already satisfied: jsonschema>=2.5.1 in c:\\users\\user\\anaconda3\\lib\\site-packages (from great-expectations==0.14.12->hsfs[python]) (4.16.0)\n",
      "Requirement already satisfied: urllib3<1.27,>=1.25.4 in c:\\users\\user\\anaconda3\\lib\\site-packages (from great-expectations==0.14.12->hsfs[python]) (1.26.11)\n",
      "Requirement already satisfied: certifi>=2017.4.17 in c:\\users\\user\\anaconda3\\lib\\site-packages (from requests->hsfs[python]) (2022.9.14)\n",
      "Requirement already satisfied: charset-normalizer<3,>=2 in c:\\users\\user\\anaconda3\\lib\\site-packages (from requests->hsfs[python]) (2.0.4)\n",
      "Requirement already satisfied: idna<4,>=2.5 in c:\\users\\user\\anaconda3\\lib\\site-packages (from requests->hsfs[python]) (3.3)\n",
      "Requirement already satisfied: jmespath<2.0.0,>=0.7.1 in c:\\users\\user\\anaconda3\\lib\\site-packages (from boto3->hsfs[python]) (0.10.0)\n",
      "Requirement already satisfied: s3transfer<0.7.0,>=0.6.0 in c:\\users\\user\\anaconda3\\lib\\site-packages (from boto3->hsfs[python]) (0.6.0)\n",
      "Requirement already satisfied: botocore<1.28.0,>=1.27.28 in c:\\users\\user\\anaconda3\\lib\\site-packages (from boto3->hsfs[python]) (1.27.28)\n",
      "Requirement already satisfied: six>=1.8.0 in c:\\users\\user\\appdata\\roaming\\python\\python39\\site-packages (from furl->hsfs[python]) (1.16.0)\n",
      "Requirement already satisfied: orderedmultidict>=1.0.1 in c:\\users\\user\\anaconda3\\lib\\site-packages (from furl->hsfs[python]) (1.0.1)\n",
      "Requirement already satisfied: future in c:\\users\\user\\anaconda3\\lib\\site-packages (from pyhopshive[thrift]->hsfs[python]) (0.18.2)\n",
      "Requirement already satisfied: thrift>=0.10.0 in c:\\users\\user\\anaconda3\\lib\\site-packages (from pyhopshive[thrift]->hsfs[python]) (0.16.0)\n",
      "Requirement already satisfied: pyasn1-modules in c:\\users\\user\\anaconda3\\lib\\site-packages (from pyjks->hsfs[python]) (0.2.8)\n",
      "Requirement already satisfied: javaobj-py3 in c:\\users\\user\\anaconda3\\lib\\site-packages (from pyjks->hsfs[python]) (0.4.3)\n",
      "Requirement already satisfied: pycryptodomex in c:\\users\\user\\anaconda3\\lib\\site-packages (from pyjks->hsfs[python]) (3.15.0)\n",
      "Requirement already satisfied: pyasn1>=0.3.5 in c:\\users\\user\\anaconda3\\lib\\site-packages (from pyjks->hsfs[python]) (0.4.8)\n",
      "Requirement already satisfied: twofish in c:\\users\\user\\anaconda3\\lib\\site-packages (from pyjks->hsfs[python]) (0.3.0)\n",
      "Requirement already satisfied: greenlet!=0.4.17 in c:\\users\\user\\anaconda3\\lib\\site-packages (from sqlalchemy->hsfs[python]) (1.1.1)\n",
      "Requirement already satisfied: toolz in c:\\users\\user\\anaconda3\\lib\\site-packages (from altair<5,>=4.0.0->great-expectations==0.14.12->hsfs[python]) (0.11.2)\n",
      "Requirement already satisfied: entrypoints in c:\\users\\user\\appdata\\roaming\\python\\python39\\site-packages (from altair<5,>=4.0.0->great-expectations==0.14.12->hsfs[python]) (0.4)\n",
      "Requirement already satisfied: cffi>=1.12 in c:\\users\\user\\anaconda3\\lib\\site-packages (from cryptography>=3.2->great-expectations==0.14.12->hsfs[python]) (1.15.1)\n",
      "Requirement already satisfied: zipp>=0.5 in c:\\users\\user\\anaconda3\\lib\\site-packages (from importlib-metadata>=1.7.0->great-expectations==0.14.12->hsfs[python]) (3.8.0)\n",
      "Requirement already satisfied: ipython>=4.0.0 in c:\\users\\user\\appdata\\roaming\\python\\python39\\site-packages (from ipywidgets>=7.5.1->great-expectations==0.14.12->hsfs[python]) (8.7.0)\n",
      "Requirement already satisfied: jupyterlab-widgets>=1.0.0 in c:\\users\\user\\anaconda3\\lib\\site-packages (from ipywidgets>=7.5.1->great-expectations==0.14.12->hsfs[python]) (1.0.0)\n",
      "Requirement already satisfied: widgetsnbextension~=3.5.0 in c:\\users\\user\\anaconda3\\lib\\site-packages (from ipywidgets>=7.5.1->great-expectations==0.14.12->hsfs[python]) (3.5.2)\n",
      "Requirement already satisfied: traitlets>=4.3.1 in c:\\users\\user\\appdata\\roaming\\python\\python39\\site-packages (from ipywidgets>=7.5.1->great-expectations==0.14.12->hsfs[python]) (5.8.0)\n",
      "Requirement already satisfied: ipython-genutils~=0.2.0 in c:\\users\\user\\anaconda3\\lib\\site-packages (from ipywidgets>=7.5.1->great-expectations==0.14.12->hsfs[python]) (0.2.0)\n",
      "Requirement already satisfied: ipykernel>=4.5.1 in c:\\users\\user\\appdata\\roaming\\python\\python39\\site-packages (from ipywidgets>=7.5.1->great-expectations==0.14.12->hsfs[python]) (6.19.2)\n",
      "Requirement already satisfied: jsonpointer>=1.9 in c:\\users\\user\\anaconda3\\lib\\site-packages (from jsonpatch>=1.22->great-expectations==0.14.12->hsfs[python]) (2.3)\n",
      "Requirement already satisfied: attrs>=17.4.0 in c:\\users\\user\\anaconda3\\lib\\site-packages (from jsonschema>=2.5.1->great-expectations==0.14.12->hsfs[python]) (21.4.0)\n",
      "Requirement already satisfied: pyrsistent!=0.17.0,!=0.17.1,!=0.17.2,>=0.14.0 in c:\\users\\user\\anaconda3\\lib\\site-packages (from jsonschema>=2.5.1->great-expectations==0.14.12->hsfs[python]) (0.18.0)\n",
      "Requirement already satisfied: fastjsonschema in c:\\users\\user\\anaconda3\\lib\\site-packages (from nbformat>=5.0->great-expectations==0.14.12->hsfs[python]) (2.16.2)\n",
      "Requirement already satisfied: jupyter_core in c:\\users\\user\\appdata\\roaming\\python\\python39\\site-packages (from nbformat>=5.0->great-expectations==0.14.12->hsfs[python]) (5.1.0)\n",
      "Requirement already satisfied: ruamel.yaml.clib>=0.1.2 in c:\\users\\user\\anaconda3\\lib\\site-packages (from ruamel.yaml<0.17.18,>=0.16->great-expectations==0.14.12->hsfs[python]) (0.2.7)\n",
      "Requirement already satisfied: pytz-deprecation-shim in c:\\users\\user\\anaconda3\\lib\\site-packages (from tzlocal>=1.2->great-expectations==0.14.12->hsfs[python]) (0.1.0.post0)\n",
      "Requirement already satisfied: tzdata in c:\\users\\user\\anaconda3\\lib\\site-packages (from tzlocal>=1.2->great-expectations==0.14.12->hsfs[python]) (2022.6)\n",
      "Requirement already satisfied: pycparser in c:\\users\\user\\anaconda3\\lib\\site-packages (from cffi>=1.12->cryptography>=3.2->great-expectations==0.14.12->hsfs[python]) (2.21)\n",
      "Requirement already satisfied: pyzmq>=17 in c:\\users\\user\\appdata\\roaming\\python\\python39\\site-packages (from ipykernel>=4.5.1->ipywidgets>=7.5.1->great-expectations==0.14.12->hsfs[python]) (24.0.1)\n",
      "Requirement already satisfied: comm>=0.1.1 in c:\\users\\user\\appdata\\roaming\\python\\python39\\site-packages (from ipykernel>=4.5.1->ipywidgets>=7.5.1->great-expectations==0.14.12->hsfs[python]) (0.1.2)\n",
      "Requirement already satisfied: nest-asyncio in c:\\users\\user\\appdata\\roaming\\python\\python39\\site-packages (from ipykernel>=4.5.1->ipywidgets>=7.5.1->great-expectations==0.14.12->hsfs[python]) (1.5.6)\n",
      "Requirement already satisfied: jupyter-client>=6.1.12 in c:\\users\\user\\appdata\\roaming\\python\\python39\\site-packages (from ipykernel>=4.5.1->ipywidgets>=7.5.1->great-expectations==0.14.12->hsfs[python]) (7.4.8)\n",
      "Requirement already satisfied: psutil in c:\\users\\user\\appdata\\roaming\\python\\python39\\site-packages (from ipykernel>=4.5.1->ipywidgets>=7.5.1->great-expectations==0.14.12->hsfs[python]) (5.9.4)\n",
      "Requirement already satisfied: debugpy>=1.0 in c:\\users\\user\\appdata\\roaming\\python\\python39\\site-packages (from ipykernel>=4.5.1->ipywidgets>=7.5.1->great-expectations==0.14.12->hsfs[python]) (1.6.4)\n",
      "Requirement already satisfied: matplotlib-inline>=0.1 in c:\\users\\user\\appdata\\roaming\\python\\python39\\site-packages (from ipykernel>=4.5.1->ipywidgets>=7.5.1->great-expectations==0.14.12->hsfs[python]) (0.1.6)\n",
      "Requirement already satisfied: tornado>=6.1 in c:\\users\\user\\appdata\\roaming\\python\\python39\\site-packages (from ipykernel>=4.5.1->ipywidgets>=7.5.1->great-expectations==0.14.12->hsfs[python]) (6.2)\n",
      "Requirement already satisfied: jedi>=0.16 in c:\\users\\user\\appdata\\roaming\\python\\python39\\site-packages (from ipython>=4.0.0->ipywidgets>=7.5.1->great-expectations==0.14.12->hsfs[python]) (0.18.2)\n",
      "Requirement already satisfied: decorator in c:\\users\\user\\appdata\\roaming\\python\\python39\\site-packages (from ipython>=4.0.0->ipywidgets>=7.5.1->great-expectations==0.14.12->hsfs[python]) (5.1.1)\n",
      "Requirement already satisfied: pygments>=2.4.0 in c:\\users\\user\\appdata\\roaming\\python\\python39\\site-packages (from ipython>=4.0.0->ipywidgets>=7.5.1->great-expectations==0.14.12->hsfs[python]) (2.13.0)\n",
      "Requirement already satisfied: prompt-toolkit<3.1.0,>=3.0.11 in c:\\users\\user\\appdata\\roaming\\python\\python39\\site-packages (from ipython>=4.0.0->ipywidgets>=7.5.1->great-expectations==0.14.12->hsfs[python]) (3.0.36)\n",
      "Requirement already satisfied: backcall in c:\\users\\user\\appdata\\roaming\\python\\python39\\site-packages (from ipython>=4.0.0->ipywidgets>=7.5.1->great-expectations==0.14.12->hsfs[python]) (0.2.0)\n",
      "Requirement already satisfied: stack-data in c:\\users\\user\\appdata\\roaming\\python\\python39\\site-packages (from ipython>=4.0.0->ipywidgets>=7.5.1->great-expectations==0.14.12->hsfs[python]) (0.6.2)\n",
      "Requirement already satisfied: pickleshare in c:\\users\\user\\appdata\\roaming\\python\\python39\\site-packages (from ipython>=4.0.0->ipywidgets>=7.5.1->great-expectations==0.14.12->hsfs[python]) (0.7.5)\n",
      "Requirement already satisfied: notebook>=4.4.1 in c:\\users\\user\\anaconda3\\lib\\site-packages (from widgetsnbextension~=3.5.0->ipywidgets>=7.5.1->great-expectations==0.14.12->hsfs[python]) (6.4.12)\n",
      "Requirement already satisfied: platformdirs>=2.5 in c:\\users\\user\\appdata\\roaming\\python\\python39\\site-packages (from jupyter_core->nbformat>=5.0->great-expectations==0.14.12->hsfs[python]) (2.6.0)\n",
      "Requirement already satisfied: pywin32>=1.0 in c:\\users\\user\\appdata\\roaming\\python\\python39\\site-packages (from jupyter_core->nbformat>=5.0->great-expectations==0.14.12->hsfs[python]) (305)\n",
      "Requirement already satisfied: parso<0.9.0,>=0.8.0 in c:\\users\\user\\appdata\\roaming\\python\\python39\\site-packages (from jedi>=0.16->ipython>=4.0.0->ipywidgets>=7.5.1->great-expectations==0.14.12->hsfs[python]) (0.8.3)\n",
      "Requirement already satisfied: terminado>=0.8.3 in c:\\users\\user\\anaconda3\\lib\\site-packages (from notebook>=4.4.1->widgetsnbextension~=3.5.0->ipywidgets>=7.5.1->great-expectations==0.14.12->hsfs[python]) (0.13.1)\n",
      "Requirement already satisfied: nbconvert>=5 in c:\\users\\user\\anaconda3\\lib\\site-packages (from notebook>=4.4.1->widgetsnbextension~=3.5.0->ipywidgets>=7.5.1->great-expectations==0.14.12->hsfs[python]) (6.4.4)\n",
      "Requirement already satisfied: argon2-cffi in c:\\users\\user\\anaconda3\\lib\\site-packages (from notebook>=4.4.1->widgetsnbextension~=3.5.0->ipywidgets>=7.5.1->great-expectations==0.14.12->hsfs[python]) (21.3.0)\n",
      "Requirement already satisfied: prometheus-client in c:\\users\\user\\anaconda3\\lib\\site-packages (from notebook>=4.4.1->widgetsnbextension~=3.5.0->ipywidgets>=7.5.1->great-expectations==0.14.12->hsfs[python]) (0.14.1)\n",
      "Requirement already satisfied: Send2Trash>=1.8.0 in c:\\users\\user\\anaconda3\\lib\\site-packages (from notebook>=4.4.1->widgetsnbextension~=3.5.0->ipywidgets>=7.5.1->great-expectations==0.14.12->hsfs[python]) (1.8.0)\n",
      "Requirement already satisfied: wcwidth in c:\\users\\user\\appdata\\roaming\\python\\python39\\site-packages (from prompt-toolkit<3.1.0,>=3.0.11->ipython>=4.0.0->ipywidgets>=7.5.1->great-expectations==0.14.12->hsfs[python]) (0.2.5)\n",
      "Requirement already satisfied: asttokens>=2.1.0 in c:\\users\\user\\appdata\\roaming\\python\\python39\\site-packages (from stack-data->ipython>=4.0.0->ipywidgets>=7.5.1->great-expectations==0.14.12->hsfs[python]) (2.2.1)\n",
      "Requirement already satisfied: pure-eval in c:\\users\\user\\appdata\\roaming\\python\\python39\\site-packages (from stack-data->ipython>=4.0.0->ipywidgets>=7.5.1->great-expectations==0.14.12->hsfs[python]) (0.2.2)\n",
      "Requirement already satisfied: executing>=1.2.0 in c:\\users\\user\\appdata\\roaming\\python\\python39\\site-packages (from stack-data->ipython>=4.0.0->ipywidgets>=7.5.1->great-expectations==0.14.12->hsfs[python]) (1.2.0)\n",
      "Requirement already satisfied: nbclient<0.6.0,>=0.5.0 in c:\\users\\user\\anaconda3\\lib\\site-packages (from nbconvert>=5->notebook>=4.4.1->widgetsnbextension~=3.5.0->ipywidgets>=7.5.1->great-expectations==0.14.12->hsfs[python]) (0.5.13)\n",
      "Requirement already satisfied: beautifulsoup4 in c:\\users\\user\\anaconda3\\lib\\site-packages (from nbconvert>=5->notebook>=4.4.1->widgetsnbextension~=3.5.0->ipywidgets>=7.5.1->great-expectations==0.14.12->hsfs[python]) (4.11.1)\n",
      "Requirement already satisfied: bleach in c:\\users\\user\\anaconda3\\lib\\site-packages (from nbconvert>=5->notebook>=4.4.1->widgetsnbextension~=3.5.0->ipywidgets>=7.5.1->great-expectations==0.14.12->hsfs[python]) (4.1.0)\n",
      "Requirement already satisfied: pandocfilters>=1.4.1 in c:\\users\\user\\anaconda3\\lib\\site-packages (from nbconvert>=5->notebook>=4.4.1->widgetsnbextension~=3.5.0->ipywidgets>=7.5.1->great-expectations==0.14.12->hsfs[python]) (1.5.0)\n",
      "Requirement already satisfied: jupyterlab-pygments in c:\\users\\user\\anaconda3\\lib\\site-packages (from nbconvert>=5->notebook>=4.4.1->widgetsnbextension~=3.5.0->ipywidgets>=7.5.1->great-expectations==0.14.12->hsfs[python]) (0.1.2)\n",
      "Requirement already satisfied: testpath in c:\\users\\user\\anaconda3\\lib\\site-packages (from nbconvert>=5->notebook>=4.4.1->widgetsnbextension~=3.5.0->ipywidgets>=7.5.1->great-expectations==0.14.12->hsfs[python]) (0.6.0)\n",
      "Requirement already satisfied: defusedxml in c:\\users\\user\\anaconda3\\lib\\site-packages (from nbconvert>=5->notebook>=4.4.1->widgetsnbextension~=3.5.0->ipywidgets>=7.5.1->great-expectations==0.14.12->hsfs[python]) (0.7.1)\n",
      "Requirement already satisfied: pywinpty>=1.1.0 in c:\\users\\user\\anaconda3\\lib\\site-packages (from terminado>=0.8.3->notebook>=4.4.1->widgetsnbextension~=3.5.0->ipywidgets>=7.5.1->great-expectations==0.14.12->hsfs[python]) (2.0.2)\n",
      "Requirement already satisfied: argon2-cffi-bindings in c:\\users\\user\\anaconda3\\lib\\site-packages (from argon2-cffi->notebook>=4.4.1->widgetsnbextension~=3.5.0->ipywidgets>=7.5.1->great-expectations==0.14.12->hsfs[python]) (21.2.0)\n",
      "Requirement already satisfied: soupsieve>1.2 in c:\\users\\user\\anaconda3\\lib\\site-packages (from beautifulsoup4->nbconvert>=5->notebook>=4.4.1->widgetsnbextension~=3.5.0->ipywidgets>=7.5.1->great-expectations==0.14.12->hsfs[python]) (2.3.1)\n",
      "Requirement already satisfied: webencodings in c:\\users\\user\\anaconda3\\lib\\site-packages (from bleach->nbconvert>=5->notebook>=4.4.1->widgetsnbextension~=3.5.0->ipywidgets>=7.5.1->great-expectations==0.14.12->hsfs[python]) (0.5.1)\n",
      "Note: you may need to restart the kernel to use updated packages.\n"
     ]
    }
   ],
   "source": [
    "pip install hsfs[python]"
   ]
  },
  {
   "cell_type": "markdown",
   "id": "4cb3492c",
   "metadata": {},
   "source": [
    "## <span style=\"color:#ff5f27;\">🪝 Feature View and Training Dataset Retrieval</span>"
   ]
  },
  {
   "cell_type": "code",
   "execution_count": null,
   "id": "360857d2",
   "metadata": {},
   "outputs": [],
   "source": [
    "feature_view = fs.get_feature_view(\n",
    "    name = 'air_quality_fv',\n",
    "    version = 3\n",
    ")"
   ]
  },
  {
   "cell_type": "code",
   "execution_count": null,
   "id": "b04e30a7",
   "metadata": {},
   "outputs": [],
   "source": [
    "train_data = feature_view.get_training_data(1)[0]\n",
    "\n",
    "train_data.head()"
   ]
  },
  {
   "cell_type": "markdown",
   "id": "1ad6e0df",
   "metadata": {},
   "source": [
    "---"
   ]
  },
  {
   "cell_type": "markdown",
   "id": "d275ae09",
   "metadata": {},
   "source": [
    "## <span style=\"color:#ff5f27;\">🧬 Modeling</span>"
   ]
  },
  {
   "cell_type": "code",
   "execution_count": null,
   "id": "5b937dec",
   "metadata": {},
   "outputs": [],
   "source": [
    "train_data = train_data.sort_values(by=[\"date\", 'city'], ascending=[False, True]).reset_index(drop=True)\n",
    "train_data[\"aqi_next_day\"] = train_data.groupby('city')['aqi'].shift(1)\n",
    "\n",
    "train_data.head(5)"
   ]
  },
  {
   "cell_type": "code",
   "execution_count": null,
   "id": "54e73700",
   "metadata": {},
   "outputs": [],
   "source": [
    "X = train_data.drop(columns=[\"date\"]).fillna(0)\n",
    "y = X.pop(\"aqi_next_day\")"
   ]
  },
  {
   "cell_type": "code",
   "execution_count": null,
   "id": "b96b0b6a",
   "metadata": {},
   "outputs": [],
   "source": [
    "gb = GradientBoostingRegressor()\n",
    "gb.fit(X, y)"
   ]
  },
  {
   "cell_type": "markdown",
   "id": "41df0b12",
   "metadata": {},
   "source": [
    "### <span style='color:#ff5f27'> 👨🏻‍⚖️ Model Validation"
   ]
  },
  {
   "cell_type": "code",
   "execution_count": null,
   "id": "4900e54c",
   "metadata": {},
   "outputs": [],
   "source": [
    "f1_score(y.astype('int'),[int(pred) for pred in gb.predict(X)],average='micro')"
   ]
  },
  {
   "cell_type": "code",
   "execution_count": null,
   "id": "e1a41ecf",
   "metadata": {},
   "outputs": [],
   "source": [
    "y.iloc[4:10].values"
   ]
  },
  {
   "cell_type": "code",
   "execution_count": null,
   "id": "d337d21c",
   "metadata": {},
   "outputs": [],
   "source": [
    "pred_df = pd.DataFrame({\n",
    "    'aqi_real': y.iloc[4:10].values,\n",
    "    'aqi_pred': map(int, gb.predict(X.iloc[4:10]))\n",
    "}\n",
    ")\n",
    "pred_df"
   ]
  },
  {
   "cell_type": "markdown",
   "id": "bdd764c8",
   "metadata": {},
   "source": [
    "---"
   ]
  },
  {
   "cell_type": "markdown",
   "id": "f63c2cf2",
   "metadata": {},
   "source": [
    "## <span style='color:#ff5f27'>🗄 Model Registry</span>\n",
    "\n",
    "One of the features in Hopsworks is the model registry. This is where you can store different versions of models and compare their performance. Models from the registry can then be served as API endpoints."
   ]
  },
  {
   "cell_type": "code",
   "execution_count": null,
   "id": "c553b659",
   "metadata": {},
   "outputs": [],
   "source": [
    "mr = project.get_model_registry()"
   ]
  },
  {
   "cell_type": "markdown",
   "id": "96efc602",
   "metadata": {},
   "source": [
    "### <span style=\"color:#ff5f27;\">⚙️ Model Schema</span>"
   ]
  },
  {
   "cell_type": "markdown",
   "id": "f9ddad82",
   "metadata": {},
   "source": [
    "The model needs to be set up with a [Model Schema](https://docs.hopsworks.ai/machine-learning-api/latest/generated/model_schema/), which describes the inputs and outputs for a model.\n",
    "\n",
    "A Model Schema can be automatically generated from training examples, as shown below."
   ]
  },
  {
   "cell_type": "code",
   "execution_count": null,
   "id": "cd3f3751",
   "metadata": {
    "scrolled": true
   },
   "outputs": [],
   "source": [
    "from hsml.schema import Schema\n",
    "from hsml.model_schema import ModelSchema\n",
    "\n",
    "input_schema = Schema(X)\n",
    "output_schema = Schema(y)\n",
    "model_schema = ModelSchema(input_schema=input_schema, output_schema=output_schema)\n",
    "\n",
    "model_schema.to_dict()"
   ]
  },
  {
   "cell_type": "code",
   "execution_count": null,
   "id": "d2777f5e",
   "metadata": {
    "scrolled": true
   },
   "outputs": [],
   "source": [
    "import joblib\n",
    "\n",
    "joblib.dump(gb, 'model.pkl')"
   ]
  },
  {
   "cell_type": "code",
   "execution_count": null,
   "id": "41f6811e",
   "metadata": {},
   "outputs": [],
   "source": [
    "model = mr.sklearn.create_model(\n",
    "    name=\"gradient_boost_model\",\n",
    "    metrics={\"f1\": \"0.5\"},\n",
    "    description=\"Gradient Boost Regressor.\",\n",
    "    input_example=X.sample(),\n",
    "    model_schema=model_schema\n",
    ")\n",
    "\n",
    "model.save('model.pkl')"
   ]
  }
 ],
 "metadata": {
  "kernelspec": {
   "display_name": "Python 3",
   "language": "python",
   "name": "python3"
  },
  "language_info": {
   "codemirror_mode": {
    "name": "ipython",
    "version": 3
   },
   "file_extension": ".py",
   "mimetype": "text/x-python",
   "name": "python",
   "nbconvert_exporter": "python",
   "pygments_lexer": "ipython3",
   "version": "3.10.1 (tags/v3.10.1:2cd268a, Dec  6 2021, 19:10:37) [MSC v.1929 64 bit (AMD64)]"
  },
  "vscode": {
   "interpreter": {
    "hash": "056ca77513ab423154b4918921392de819b897e6f0647858ef2c767f8d036b3c"
   }
  }
 },
 "nbformat": 4,
 "nbformat_minor": 5
}
